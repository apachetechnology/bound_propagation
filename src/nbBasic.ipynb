{
 "cells": [
  {
   "cell_type": "code",
   "execution_count": 8,
   "metadata": {},
   "outputs": [],
   "source": [
    "import torch\n",
    "import torch.nn  as nn\n",
    "\n",
    "from bound_propagation import BoundModelFactory, HyperRectangle\n",
    "\n",
    "from torchsummary import summary"
   ]
  },
  {
   "cell_type": "code",
   "execution_count": 16,
   "metadata": {},
   "outputs": [
    {
     "name": "stdout",
     "output_type": "stream",
     "text": [
      "----------------------------------------------------------------\n",
      "        Layer (type)               Output Shape         Param #\n",
      "================================================================\n",
      "            Linear-1             [-1, 1, 5, 16]              96\n",
      "            Linear-2             [-1, 1, 5, 16]              96\n",
      "              Tanh-3             [-1, 1, 5, 16]               0\n",
      "              Tanh-4             [-1, 1, 5, 16]               0\n",
      "            Linear-5             [-1, 1, 5, 16]             272\n",
      "            Linear-6             [-1, 1, 5, 16]             272\n",
      "              Tanh-7             [-1, 1, 5, 16]               0\n",
      "              Tanh-8             [-1, 1, 5, 16]               0\n",
      "            Linear-9              [-1, 1, 5, 2]              34\n",
      "           Linear-10              [-1, 1, 5, 2]              34\n",
      "================================================================\n",
      "Total params: 804\n",
      "Trainable params: 804\n",
      "Non-trainable params: 0\n",
      "----------------------------------------------------------------\n",
      "Input size (MB): 0.00\n",
      "Forward/backward pass size (MB): 0.01\n",
      "Params size (MB): 0.00\n",
      "Estimated Total Size (MB): 0.01\n",
      "----------------------------------------------------------------\n"
     ]
    }
   ],
   "source": [
    "class Network(nn.Sequential):\n",
    "    def __init__(self, in_size):\n",
    "\n",
    "        super().__init__(\n",
    "            nn.Linear(in_size, 16),\n",
    "            nn.Tanh(),\n",
    "            nn.Linear(16, 16),\n",
    "            nn.Tanh(),\n",
    "            nn.Linear(16, n_classes)\n",
    "        )\n",
    "\n",
    "#----------------------------------------------------\n",
    "in_ch = 1\n",
    "in_size = 5\n",
    "n_classes = 2\n",
    "\n",
    "net = Network(in_size)\n",
    "\n",
    "factory = BoundModelFactory()\n",
    "net = factory.build(net)\n",
    "\n",
    "summary(net, (in_ch, in_size, in_size))"
   ]
  },
  {
   "cell_type": "markdown",
   "metadata": {},
   "source": [
    "### Define Input"
   ]
  },
  {
   "cell_type": "code",
   "execution_count": 17,
   "metadata": {},
   "outputs": [
    {
     "name": "stdout",
     "output_type": "stream",
     "text": [
      "torch.Size([10, 5])\n",
      "tensor([[0.3782, 0.9687, 0.6272, 0.9113, 0.6000],\n",
      "        [0.5694, 0.2390, 0.1080, 0.9507, 0.5752],\n",
      "        [0.7677, 0.1543, 0.8900, 0.2086, 0.1451],\n",
      "        [0.8503, 0.5130, 0.2022, 0.6206, 0.4994],\n",
      "        [0.7038, 0.7059, 0.7319, 0.9896, 0.7213],\n",
      "        [0.7146, 0.8315, 0.1935, 0.9332, 0.1692],\n",
      "        [0.0710, 0.1888, 0.1516, 0.6267, 0.3667],\n",
      "        [0.6732, 0.2800, 0.4203, 0.1595, 0.4163],\n",
      "        [0.8728, 0.1545, 0.8949, 0.6270, 0.0312],\n",
      "        [0.6816, 0.1443, 0.7767, 0.6977, 0.9918]])\n"
     ]
    }
   ],
   "source": [
    "x = torch.rand(10, in_size)\n",
    "print(x.shape)\n",
    "print(x)"
   ]
  },
  {
   "cell_type": "markdown",
   "metadata": {},
   "source": [
    "### IBP"
   ]
  },
  {
   "cell_type": "code",
   "execution_count": 25,
   "metadata": {},
   "outputs": [
    {
     "name": "stdout",
     "output_type": "stream",
     "text": [
      "10\n",
      "10\n"
     ]
    }
   ],
   "source": [
    "epsilon = 0.1\n",
    "input_bounds = HyperRectangle.from_eps(x, epsilon)\n",
    "\n",
    "print(len(input_bounds))\n",
    "\n",
    "ibp_bounds = net.ibp(input_bounds)\n",
    "print(len(ibp_bounds))"
   ]
  },
  {
   "cell_type": "code",
   "execution_count": null,
   "metadata": {},
   "outputs": [],
   "source": [
    "crown_bounds = net.crown(input_bounds).concretize()\n",
    "crown_ibp_bounds = net.crown_ibp(input_bounds).concretize()\n",
    "\n",
    "alpha_crown_bounds = net.crown(input_bounds, alpha=True).concretize()\n",
    "alpha_crown_ibp_bounds = net.crown_ibp(input_bounds, alpha=True).concretize()"
   ]
  }
 ],
 "metadata": {
  "kernelspec": {
   "display_name": "Python 3",
   "language": "python",
   "name": "python3"
  },
  "language_info": {
   "codemirror_mode": {
    "name": "ipython",
    "version": 3
   },
   "file_extension": ".py",
   "mimetype": "text/x-python",
   "name": "python",
   "nbconvert_exporter": "python",
   "pygments_lexer": "ipython3",
   "version": "3.9.0"
  }
 },
 "nbformat": 4,
 "nbformat_minor": 2
}
