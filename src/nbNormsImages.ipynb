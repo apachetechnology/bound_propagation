{
 "cells": [
  {
   "cell_type": "markdown",
   "metadata": {},
   "source": [
    "# MNIST DATASET"
   ]
  },
  {
   "cell_type": "code",
   "execution_count": 1,
   "metadata": {},
   "outputs": [],
   "source": [
    "import numpy as np\n",
    "\n",
    "from matplotlib import pyplot as plt\n",
    "\n",
    "from numpy.linalg import norm\n",
    "\n",
    "import torch\n",
    "import torchvision.datasets as datasets\n",
    "import torchvision.transforms as V2\n",
    "import multiprocessing\n",
    "\n",
    "def GetMNISTDS(strDSPath, cBatch_size):\n",
    "        train_data = datasets.MNIST(strDSPath, train=True, \n",
    "                                    download=False, transform=V2.ToTensor())\n",
    "        test_data = datasets.MNIST(strDSPath, train=False, \n",
    "                                    download=False, transform=V2.ToTensor())\n",
    "        \n",
    "        mDLTrain = torch.utils.data.DataLoader(train_data, \n",
    "                            batch_size=cBatch_size, \n",
    "                            shuffle=True, pin_memory=True, \n",
    "                            num_workers=min(multiprocessing.cpu_count(),4))\n",
    "        mDLTest = torch.utils.data.DataLoader(test_data, \n",
    "                            #batch_size=cBatch_size,\n",
    "                            batch_size=1,\n",
    "                            shuffle=True, \n",
    "                            pin_memory=True, \n",
    "                            num_workers=min(multiprocessing.cpu_count(),4))\n",
    "        mDLTrain.mean = mDLTest.mean = torch.tensor([0.0])\n",
    "        mDLTrain.std = mDLTest.std = torch.tensor([1.0])\n",
    "\n",
    "        return mDLTrain, mDLTest\n",
    "\n",
    "def ShowImg(img, strTitle, strName):\n",
    "    plt.imshow(img, cmap='gray', interpolation='none')\n",
    "    plt.title(strTitle)\n",
    "    if strName != None:\n",
    "        plt.savefig(strName, dpi=300, bbox_inches='tight')\n",
    "    plt.show()\n",
    "    plt.close()\n",
    "\n",
    "def ShowImg(img, strTitle, bTransform, \n",
    "            nInCh, nInDim, cDPI = 80, strName=None):\n",
    "    \n",
    "    figsize = nInDim / float(cDPI), nInDim / float(cDPI)\n",
    "\n",
    "    fig = plt.figure(figsize=figsize)\n",
    "    ax = fig.add_axes([0, 0, 1, 1])\n",
    "    # Hide spines, ticks, etc.\n",
    "    ax.axis('off')\n",
    "\n",
    "    if bTransform:\n",
    "        img = img / 2 + 0.5  # unnormalize\n",
    "    #npimg = img.numpy()  # convert from tensor\n",
    "    #cv2.imwrite('./local-results/test.jpg', img.permute(1, 2, 0).numpy()*255)\n",
    "    if nInCh == 1:\n",
    "        ax.imshow(img.permute(1, 2, 0), cmap='gray')\n",
    "    else:\n",
    "        ax.imshow(img.permute(1, 2, 0))\n",
    "    \n",
    "    plt.title(strTitle)\n",
    "    if strName != None:\n",
    "        plt.savefig(strName, dpi=300, bbox_inches='tight')\n",
    "    plt.show()\n",
    "    plt.close()"
   ]
  },
  {
   "cell_type": "code",
   "execution_count": 2,
   "metadata": {},
   "outputs": [
    {
     "name": "stdout",
     "output_type": "stream",
     "text": [
      "Batch Size: 600\n",
      "Batch Size: 10000\n"
     ]
    }
   ],
   "source": [
    "mDLTrain, mDLTest = GetMNISTDS('../../DATA', 100)\n",
    "\n",
    "print('Batch Size:', len(mDLTrain))\n",
    "print('Batch Size:', len(mDLTest))"
   ]
  },
  {
   "cell_type": "code",
   "execution_count": 3,
   "metadata": {},
   "outputs": [
    {
     "name": "stdout",
     "output_type": "stream",
     "text": [
      "Image: torch.Size([1, 1, 28, 28]) Label: torch.Size([1])\n"
     ]
    },
    {
     "data": {
      "image/png": "[encoded data removed]",
      "text/plain": [
       "<Figure size 93.3333x93.3333 with 1 Axes>"
      ]
     },
     "metadata": {},
     "output_type": "display_data"
    },
    {
     "name": "stdout",
     "output_type": "stream",
     "text": [
      "(784,)\n"
     ]
    },
    {
     "data": {
      "text/plain": [
       "1.0"
      ]
     },
     "execution_count": 3,
     "metadata": {},
     "output_type": "execute_result"
    }
   ],
   "source": [
    "cInCh = 1\n",
    "cInDim = 28\n",
    "\n",
    "test_batches = enumerate(mDLTest)\n",
    "\n",
    "# Load single batch\n",
    "batch_idx, (listImg, listLabel) = next(test_batches)\n",
    "print('Image:', listImg.shape, 'Label:', listLabel.shape)\n",
    "# print(images[0])\n",
    "strTitle = str(listLabel[0].item())\n",
    "ShowImg(listImg[0], strTitle, True, cInCh, cInDim, 30)\n",
    "\n",
    "listImg1D = listImg[0][0].numpy().ravel()\n",
    "print(listImg1D.shape)\n",
    "\n",
    "print('Norm=', norm(listImg1D, np.inf))"
   ]
  },
  {
   "cell_type": "markdown",
   "metadata": {},
   "source": [
    "### Get bounds using hyperrectangle"
   ]
  },
  {
   "cell_type": "code",
   "execution_count": 7,
   "metadata": {},
   "outputs": [
    {
     "name": "stdout",
     "output_type": "stream",
     "text": [
      "(784,)\n",
      "Norm= 1.001\n",
      "(784,)\n",
      "Norm= 0.999\n"
     ]
    },
    {
     "data": {
      "image/png": "[encoded data removed]",
      "text/plain": [
       "<Figure size 93.3333x93.3333 with 1 Axes>"
      ]
     },
     "metadata": {},
     "output_type": "display_data"
    },
    {
     "data": {
      "image/png": "[encoded data removed]",
      "text/plain": [
       "<Figure size 93.3333x93.3333 with 1 Axes>"
      ]
     },
     "metadata": {},
     "output_type": "display_data"
    }
   ],
   "source": [
    "from bound_propagation import BoundModelFactory, HyperRectangle, Parallel, LpNormSet\n",
    "\n",
    "fEPS = 0.001\n",
    "objHR = HyperRectangle.from_eps(listImg, fEPS)\n",
    "\n",
    "upper1D = objHR.upper[0][0].numpy().ravel()\n",
    "print(upper1D.shape)\n",
    "print('Norm=', norm(upper1D, np.inf))\n",
    "\n",
    "lower1D = objHR.lower[0][0].numpy().ravel()\n",
    "print(lower1D.shape)\n",
    "print('Norm=', norm(lower1D, np.inf))\n",
    "\n",
    "ShowImg(objHR.upper[0], strTitle, True, cInCh, cInDim, 30)\n",
    "ShowImg(objHR.lower[0], strTitle, True, cInCh, cInDim, 30)"
   ]
  },
  {
   "cell_type": "markdown",
   "metadata": {},
   "source": [
    "### Noise display"
   ]
  },
  {
   "cell_type": "code",
   "execution_count": 8,
   "metadata": {},
   "outputs": [
    {
     "data": {
      "image/png": "[encoded data removed]",
      "text/plain": [
       "<Figure size 93.3333x93.3333 with 1 Axes>"
      ]
     },
     "metadata": {},
     "output_type": "display_data"
    },
    {
     "data": {
      "image/png": "[encoded data removed]",
      "text/plain": [
       "<Figure size 93.3333x93.3333 with 1 Axes>"
      ]
     },
     "metadata": {},
     "output_type": "display_data"
    }
   ],
   "source": [
    "noise_ub = torch.sub(objHR.upper, listImg)\n",
    "ShowImg(noise_ub[0], 'Noise_UB_'+ strTitle, True, cInCh, cInDim, 30)\n",
    "\n",
    "noise_lb = torch.sub(listImg, objHR.lower)\n",
    "ShowImg(noise_lb[0], 'Noise_LB_'+ strTitle, True, cInCh, cInDim, 30)"
   ]
  },
  {
   "cell_type": "markdown",
   "metadata": {},
   "source": [
    "### Get bounds using Linf norm"
   ]
  },
  {
   "cell_type": "code",
   "execution_count": 11,
   "metadata": {},
   "outputs": [
    {
     "data": {
      "image/png": "[encoded data removed]",
      "text/plain": [
       "<Figure size 93.3333x93.3333 with 1 Axes>"
      ]
     },
     "metadata": {},
     "output_type": "display_data"
    },
    {
     "name": "stdout",
     "output_type": "stream",
     "text": [
      "Norm= 1.0\n"
     ]
    },
    {
     "data": {
      "image/png": "[encoded data removed]",
      "text/plain": [
       "<Figure size 93.3333x93.3333 with 1 Axes>"
      ]
     },
     "metadata": {},
     "output_type": "display_data"
    },
    {
     "data": {
      "image/png": "[encoded data removed]",
      "text/plain": [
       "<Figure size 93.3333x93.3333 with 1 Axes>"
      ]
     },
     "metadata": {},
     "output_type": "display_data"
    },
    {
     "name": "stdout",
     "output_type": "stream",
     "text": [
      "Norm= 0.999\n"
     ]
    },
    {
     "data": {
      "image/png": "[encoded data removed]",
      "text/plain": [
       "<Figure size 93.3333x93.3333 with 1 Axes>"
      ]
     },
     "metadata": {},
     "output_type": "display_data"
    }
   ],
   "source": [
    "# Bound inputs for Linf\n",
    "data_max = torch.reshape((1. - mDLTest.mean) / mDLTest.std, (1, -1, 1, 1))\n",
    "#ShowImg(data_max[0], 'data_max_'+ strTitle, True, cInCh, cInDim, 30)\n",
    "data_min = torch.reshape((0. - mDLTest.mean) / mDLTest.std, (1, -1, 1, 1))\n",
    "\n",
    "## Upper Bound\n",
    "data_ub = torch.min(listImg + (fEPS / mDLTest.std).view(1,-1,1,1), data_max)\n",
    "ShowImg(data_ub[0], 'UB_'+ strTitle, True, cInCh, cInDim, 30)\n",
    "print('Norm=', norm(data_ub[0][0].numpy().ravel(), np.inf))\n",
    "\n",
    "noise_ub = torch.sub(data_ub, listImg)\n",
    "ShowImg(noise_ub[0], 'Noise_UB_'+ strTitle, True, cInCh, cInDim, 30)\n",
    "\n",
    "## Lower Bound\n",
    "data_lb = torch.max(listImg - (fEPS / mDLTest.std).view(1,-1,1,1), data_min)\n",
    "ShowImg(data_lb[0], 'LB_'+ strTitle, True, cInCh, cInDim, 30)\n",
    "print('Norm=', norm(data_lb[0][0].numpy().ravel(), np.inf))\n",
    "\n",
    "noise_lb = torch.sub(data_lb, listImg)\n",
    "ShowImg(noise_lb[0], 'Noise_LB_'+ strTitle, True, cInCh, cInDim, 30)"
   ]
  }
 ],
 "metadata": {
  "kernelspec": {
   "display_name": "Python 3",
   "language": "python",
   "name": "python3"
  },
  "language_info": {
   "codemirror_mode": {
    "name": "ipython",
    "version": 3
   },
   "file_extension": ".py",
   "mimetype": "text/x-python",
   "name": "python",
   "nbconvert_exporter": "python",
   "pygments_lexer": "ipython3",
   "version": "3.9.13"
  }
 },
 "nbformat": 4,
 "nbformat_minor": 2
}
